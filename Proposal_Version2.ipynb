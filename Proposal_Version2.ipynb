{
 "cells": [
  {
   "cell_type": "markdown",
   "id": "305cb3ae-ca9f-4b8c-b1f0-c8da425a8a87",
   "metadata": {},
   "source": [
    "## User Knowledge Classification Model Proposal\n",
    "##### Group 41: Daeun Lee, Jessie Megan, Mia Ling, Renee Chan"
   ]
  },
  {
   "cell_type": "markdown",
   "id": "70cc4961-0c48-48cd-ad7e-d06fd2a22837",
   "metadata": {},
   "source": [
    "### 1. Introduction\n",
    "\n",
    "Various factors can play a significant role in a student’s knowledge level. Understanding the attributes that contribute to knowledge levels can help improve a student’s academic success. In this project, the following question will be answered: what is the predicted knowledge level of a user given their degree of study time for goal object materials (STG) and the exam performance of the user for goal objects (PEG)?\n",
    "\n",
    "This project utilizes the User Knowledge Modeling Dataset to predict the knowledge level of a user (UNS) through creating a classification model using the k-nearest neighbor algorithm. This dataset examines a group of student’s knowledge pertaining to the subject of Electrical DC machines. The knowledge level of a user can be classified as “Very Low”, “Low” , “Middle”, and “High”. "
   ]
  },
  {
   "cell_type": "markdown",
   "id": "3cf0655c-ee4f-43cd-902b-1029eb29fb4a",
   "metadata": {},
   "source": [
    "### 2. Preliminary exploratory data analysis"
   ]
  },
  {
   "cell_type": "code",
   "execution_count": 3,
   "id": "827c30ec-5b34-4f79-8fbd-f5752213aecf",
   "metadata": {},
   "outputs": [
    {
     "ename": "ERROR",
     "evalue": "Error in library(tidymodels): there is no package called ‘tidymodels’\n",
     "output_type": "error",
     "traceback": [
      "Error in library(tidymodels): there is no package called ‘tidymodels’\nTraceback:\n",
      "1. library(tidymodels)"
     ]
    }
   ],
   "source": [
    "library(tidyverse)\n",
    "library(testthat)\n",
    "library(digest)\n",
    "library(repr)\n",
    "library(tidymodels)"
   ]
  },
  {
   "cell_type": "markdown",
   "id": "2d099f9c-83d0-41f1-86c0-efe125cdd355",
   "metadata": {},
   "source": [
    "Attribute Information:\n",
    "1) STG (The degree of study time for goal object materails)\n",
    "2) SCG (The degree of repetition number of user for goal object materails)\n",
    "3) STR (The degree of study time of user for related objects with goal object)\n",
    "4) LPR (The exam performance of user for related objects with goal object)\n",
    "5) PEG (The exam performance of user for goal objects)\n",
    "6) UNS (The knowledge level of user)"
   ]
  },
  {
   "cell_type": "code",
   "execution_count": null,
   "id": "6905db65-77b4-4daf-b94e-0c1471097c82",
   "metadata": {},
   "outputs": [],
   "source": [
    "training_data <- read_csv(\"data/User_Modeling_Training_data.csv\") |>\n",
    "                    select(STG:UNS)\n",
    "training_data\n",
    "\n",
    "testing_data <- read_csv(\"data/User_Modeling_Testing_data.csv\") |>\n",
    "                    select(STG:UNS)\n",
    "testing_data"
   ]
  },
  {
   "cell_type": "markdown",
   "id": "fbdbf2b0-7948-4027-9a41-6572861eab95",
   "metadata": {},
   "source": [
    "Below are two summary tables. The first one shows the number of observations in each class of UNS(the knowledge level of user).\n",
    "The second table shows the mean of all the perdictor variables can be used to predict tge class of UNS."
   ]
  },
  {
   "cell_type": "code",
   "execution_count": null,
   "id": "5b70bd61-ed1e-4cf4-8cf1-3a112073d0b2",
   "metadata": {},
   "outputs": [],
   "source": [
    "Training_table_1 <- training_data |>\n",
    "                    group_by(UNS) |>\n",
    "                    summarize(count = n(), percentage = n() / nrow(training_data) * 100)\n",
    "Training_table_1\n",
    "\n",
    "Training_table_2 <- training_data |> \n",
    "                    summarize(across(STG:PEG,mean))\n",
    "Training_table_2                                         "
   ]
  },
  {
   "cell_type": "markdown",
   "id": "b472ba84-8699-49e8-bacd-44b61c4ed8a6",
   "metadata": {},
   "source": [
    "The two histogram below shows the distribution of STG and PEG based on each knowledge level."
   ]
  },
  {
   "cell_type": "code",
   "execution_count": null,
   "id": "3a44650d-dd81-4f2e-bc7a-69cc2ea8794f",
   "metadata": {},
   "outputs": [],
   "source": [
    "STG_PLOT <- ggplot(testing_data,aes(x = STG, fill = as_factor(UNS))) +\n",
    "            geom_histogram() +\n",
    "            facet_grid(rows = vars(UNS)) +\n",
    "            labs(x = \"The degree of study time for goal object materails\", \n",
    "                 fill = \"The knowledge level of user\") +\n",
    "            ggtitle(\"The distribution of STG\")\n",
    "STG_PLOT\n",
    "\n",
    "PEG_PLOT <- STG_PLOT <- ggplot(testing_data,aes(x = PEG,fill = as_factor(UNS))) +\n",
    "            geom_histogram() +\n",
    "            facet_grid(rows = vars(UNS)) +\n",
    "            labs(x = \"The exam performance of user for goal objects\", \n",
    "                 fill = \"The knowledge level of user\") +\n",
    "            ggtitle(\"The distribution of PEG\")\n",
    "PEG_PLOT"
   ]
  },
  {
   "cell_type": "markdown",
   "id": "7fa40514-bb32-4335-a0df-6713cf35b0fc",
   "metadata": {},
   "source": [
    "### 3. Methods\n",
    "\n",
    "We will conduct our data analysis by creating a classification model using the k-nearest neighbor algorithm. This is done by going through the steps as mentioned below:\n",
    "1) Load the dataset\n",
    "2) Create a scatterplot\n",
    "3) \n",
    "\n",
    "\n",
    "The variables from the dataset that we include in this analysis are the degree of study time goal object materials (STG), the exam performance of user for goal objects (PEG), and the knowledge level of user as the variables (UNS). We will visualize the results by creating a scatterplot, labelling the x-axis as the degree of study time goal object materials (STG) and y-axis as the exam performance of user for goal objects (PEG). By doing so, we will be able to visualize the relationship between STG and PEG. Then we will use the K-nearest neighbors classification algorithm to predict the knowledge level of user (UNS). With this classifier, we will find the K “nearest” observations from the training data set."
   ]
  },
  {
   "cell_type": "markdown",
   "id": "601573b2-a5e0-4c94-ab43-8f4b70c36451",
   "metadata": {},
   "source": [
    "### 4. Expected outcomes and significance\n",
    "\n",
    "#### a. What do we expect to find?\n",
    "Utilizing the k-nearest neighbor algorithm, we expect to create an efficient classification model that is able to predict students' knowledge level about the subject of Electrical DC Machines. From the dataset, we selected the degree of study time for goal object materials (STG) and the exam performance of the user for goal objects (PEG) as our predictors. By doing this, we will be able to understand how relevant those two variables are in predicting students' knowledge level.\n",
    "\n",
    "#### b. What impact could such findings have?\n",
    "This classification model would be able to predict students' knowledge level about the subject of Electrical DC Machines. This type of prediction would be really helpful in understanding the factors that may influence students' knowledge level. Furthermore, this model allows us to understand how we can improve their knowledge level and consequently be able to guide them to perform better in class. \n",
    "\n",
    "#### c. What future questions could this lead to?\n",
    "Some questions that this classification model may lead to are as follows:\n",
    "1) Are there any other variables that are relevant in predicting students' knowledge level about the subject of Electrical DC Machines?\n",
    "2) How can we improve students’ knowledge level on a certain subject?"
   ]
  },
  {
   "cell_type": "code",
   "execution_count": null,
   "id": "a29e8eb1-ca09-4b07-90fa-9cea92afae0d",
   "metadata": {},
   "outputs": [],
   "source": []
  }
 ],
 "metadata": {
  "kernelspec": {
   "display_name": "R",
   "language": "R",
   "name": "ir"
  },
  "language_info": {
   "codemirror_mode": "r",
   "file_extension": ".r",
   "mimetype": "text/x-r-source",
   "name": "R",
   "pygments_lexer": "r",
   "version": "4.1.3"
  }
 },
 "nbformat": 4,
 "nbformat_minor": 5
}
